{
  "cells": [
    {
      "cell_type": "markdown",
      "metadata": {
        "id": "0TEbDaOfjxdL"
      },
      "source": [
        "# Chapter 2: Being Clear and Direct\n",
        "\n",
        "- [Lesson](#lesson)\n",
        "- [Exercises](#exercises)\n",
        "- [Example Playground](#example-playground)\n",
        "\n",
        "## Setup\n",
        "\n",
        "Run the following setup cell to load your API key and establish the `get_completion` helper function."
      ]
    },
    {
      "cell_type": "code",
      "execution_count": null,
      "metadata": {
        "tags": [],
        "id": "SgL1h812jxdO"
      },
      "outputs": [],
      "source": [
        "# Import python's built-in regular expression library\n",
        "import re\n",
        "import boto3\n",
        "from botocore.exceptions import ClientError\n",
        "import json\n",
        "\n",
        "# Import the hints module from the utils package\n",
        "from utils import hints\n",
        "\n",
        "# Retrieve the MODEL_NAME variable from the IPython store\n",
        "%store -r modelId\n",
        "%store -r region\n",
        "\n",
        "bedrock_client = boto3.client(service_name='bedrock-runtime', region_name=region)"
      ]
    },
    {
      "cell_type": "code",
      "execution_count": null,
      "metadata": {
        "tags": [],
        "id": "VHZ7pBSajxdO"
      },
      "outputs": [],
      "source": [
        "def get_completion(prompt, system_prompt=None):\n",
        "    inference_config = {\n",
        "        \"temperature\": 0.0,\n",
        "        \"maxTokens\": 3000\n",
        "    }\n",
        "    additional_model_fields = {\n",
        "        \"top_p\": 1\n",
        "    }\n",
        "    converse_api_params = {\n",
        "        \"modelId\": modelId,\n",
        "        \"messages\": [{\"role\": \"user\", \"content\": [{\"text\": prompt}]}],\n",
        "        \"inferenceConfig\": inference_config,\n",
        "        \"additionalModelRequestFields\": additional_model_fields\n",
        "    }\n",
        "    if system_prompt:\n",
        "        converse_api_params[\"system\"] = [{\"text\": system_prompt}]\n",
        "    try:\n",
        "        response = bedrock_client.converse(**converse_api_params)\n",
        "        text_content = response['output']['message']['content'][0]['text']\n",
        "        return text_content\n",
        "\n",
        "    except ClientError as err:\n",
        "        message = err.response['Error']['Message']\n",
        "        print(f\"A client error occured: {message}\")"
      ]
    },
    {
      "cell_type": "markdown",
      "metadata": {
        "id": "6DDC9P6ljxdP"
      },
      "source": [
        "---\n",
        "\n",
        "## Lesson\n",
        "\n",
        "**Claude responds best to clear and direct instructions.**\n",
        "\n",
        "Think of Claude like any other human that is new to the job. **Claude has no context** on what to do aside from what you literally tell it. Just as when you instruct a human for the first time on a task, the more you explain exactly what you want in a straightforward manner to Claude, the better and more accurate Claude's response will be.\"\n",
        "\n",
        "When in doubt, follow the **Golden Rule of Clear Prompting**:\n",
        "- Show your prompt to a colleague or friend and have them follow the instructions themselves to see if they can produce the result you want. If they're confused, Claude's confused."
      ]
    },
    {
      "cell_type": "markdown",
      "metadata": {
        "id": "3GXHi9cUjxdP"
      },
      "source": [
        "### Examples\n",
        "\n",
        "Let's take a task like writing poetry. (Ignore any syllable mismatch - LLMs aren't great at counting syllables yet.)"
      ]
    },
    {
      "cell_type": "code",
      "execution_count": null,
      "metadata": {
        "tags": [],
        "id": "Rdm87_8KjxdP",
        "outputId": "43d3fa3d-5f8b-459b-c96c-4991240cc23f"
      },
      "outputs": [
        {
          "name": "stdout",
          "output_type": "stream",
          "text": [
            "Here is a haiku about robots:\n",
            "\n",
            "Metallic beings\n",
            "Programmed to serve and obey\n",
            "Artificial life\n"
          ]
        }
      ],
      "source": [
        "# Prompt\n",
        "PROMPT = \"Write a haiku about robots.\"\n",
        "\n",
        "# Print Claude's response\n",
        "print(get_completion(PROMPT))"
      ]
    },
    {
      "cell_type": "markdown",
      "metadata": {
        "id": "XyknhHTxjxdQ"
      },
      "source": [
        "This haiku is nice enough, but users may want Claude to go directly into the poem without the \"Here is a haiku\" preamble.\n",
        "\n",
        "How do we achieve that? We **ask for it**!"
      ]
    },
    {
      "cell_type": "code",
      "execution_count": null,
      "metadata": {
        "tags": [],
        "id": "JD8IPCT7jxdQ",
        "outputId": "308daca7-1b39-4b4f-d186-ac5672c44b26"
      },
      "outputs": [
        {
          "name": "stdout",
          "output_type": "stream",
          "text": [
            "Metallic beings,\n",
            "Programmed to serve and obey,\n",
            "Robots, our creations.\n"
          ]
        }
      ],
      "source": [
        "# Prompt\n",
        "PROMPT = \"Write a haiku about robots. Skip the preamble; go straight into the poem.\"\n",
        "\n",
        "# Print Claude's response\n",
        "print(get_completion(PROMPT))"
      ]
    },
    {
      "cell_type": "markdown",
      "metadata": {
        "id": "ibjZzQc7jxdQ"
      },
      "source": [
        "Here's another example. Let's ask Claude who's the best basketball player of all time. You can see below that while Claude lists a few names, **it doesn't respond with a definitive \"best\"**."
      ]
    },
    {
      "cell_type": "code",
      "execution_count": null,
      "metadata": {
        "tags": [],
        "id": "20wJ2HlijxdQ",
        "outputId": "f1014e27-13e3-47d8-f0ae-fb1de1e481c4"
      },
      "outputs": [
        {
          "name": "stdout",
          "output_type": "stream",
          "text": [
            "There is no universally agreed upon \"best basketball player of all time.\" It's a highly debated topic, as there have been many all-time great players throughout the history of the sport. Some of the players often considered among the greatest of all time include:\n",
            "\n",
            "- Michael Jordan - Widely regarded as one of the greatest, if not the greatest, player ever. He won 6 NBA championships with the Chicago Bulls.\n",
            "\n",
            "- LeBron James - One of the most dominant and well-rounded players of the modern era. He has won 4 NBA titles with 3 different teams.\n",
            "\n",
            "- Kareem Abdul-Jabbar - Legendary center who won 6 NBA championships and holds the record for most career points scored.\n",
            "\n",
            "- Wilt Chamberlain - Dominant big man who holds numerous NBA records including most points in a game (100).\n",
            "\n",
            "- Magic Johnson - Pioneering point guard who led the \"Showtime\" Lakers to 5 NBA titles.\n",
            "\n",
            "- Bill Russell - Defensive anchor and 11-time NBA champion with the Boston Celtics.\n",
            "\n",
            "There are compelling arguments for several players to be considered the GOAT (greatest of all time). Ultimately, it comes down to personal opinion and how one weighs different factors like championships, individual stats, impact on the game, and more. The debate over the best NBA player ever is likely to continue for a long time.\n"
          ]
        }
      ],
      "source": [
        "# Prompt\n",
        "PROMPT = \"Who is the best basketball player of all time?\"\n",
        "\n",
        "# Print Claude's response\n",
        "print(get_completion(PROMPT))"
      ]
    },
    {
      "cell_type": "markdown",
      "metadata": {
        "id": "bqUyd92-jxdR"
      },
      "source": [
        "Can we get Claude to make up its mind and decide on a best player? Yes! Just ask!"
      ]
    },
    {
      "cell_type": "code",
      "execution_count": null,
      "metadata": {
        "tags": [],
        "id": "R8WeitcAjxdR",
        "outputId": "e4b652bd-a101-48dd-c215-e9d701aa7dc5"
      },
      "outputs": [
        {
          "name": "stdout",
          "output_type": "stream",
          "text": [
            "There is no definitive consensus on who the single \"best basketball player of all time\" is, as it is a highly subjective and debatable topic. However, if I had to choose one player, the player I would consider the best of all time is Michael Jordan.\n",
            "\n",
            "Some key reasons why Michael Jordan is often regarded as the GOAT (Greatest of All Time) in basketball:\n",
            "\n",
            "- Dominant statistical career - Jordan is one of the most statistically dominant players ever, with career averages of 30.1 points, 5.3 assists, 6.2 rebounds per game. He won 5 MVP awards.\n",
            "\n",
            "- Unparalleled winning pedigree - Jordan led the Chicago Bulls to 6 NBA championships in the 1990s, winning Finals MVP each time. He has the highest scoring average in NBA Finals history.\n",
            "\n",
            "- Transcendent impact on the game - Jordan's style of play, competitiveness, and global popularity helped transform the NBA into the worldwide phenomenon it is today. He is considered one of the most influential athletes of the 20th century.\n",
            "\n",
            "- Longevity and dominance - Jordan was an elite, MVP-caliber player for over a decade, winning his first title at age 28 and his last at 35, despite taking a brief retirement.\n",
            "\n",
            "Of course, there are other all-time greats like LeBron James, Kareem Abdul-Jabbar, Wilt Chamberlain, etc. who also have strong cases. But in my opinion, Michael Jordan's combination of individual brilliance, sustained excellence, and unmatched winning pedigree make him the best basketball player of all time.\n"
          ]
        }
      ],
      "source": [
        "# Prompt\n",
        "PROMPT = \"Who is the best basketball player of all time? Yes, there are differing opinions, but if you absolutely had to pick one player, who would it be?\"\n",
        "\n",
        "# Print Claude's response\n",
        "print(get_completion(PROMPT))"
      ]
    },
    {
      "cell_type": "markdown",
      "metadata": {
        "id": "EDMuBfQEjxdR"
      },
      "source": [
        "If you would like to experiment with the lesson prompts without changing any content above, scroll all the way to the bottom of the lesson notebook to visit the [**Example Playground**](#example-playground)."
      ]
    },
    {
      "cell_type": "markdown",
      "metadata": {
        "id": "LUH2fi5OjxdR"
      },
      "source": [
        "---\n",
        "\n",
        "## Assigment Exercises\n",
        "- [Exercise 2.1 - Spanish](#exercise-21---spanish)\n",
        "- [Exercise 2.2 - One Player Only](#exercise-22---one-player-only)\n",
        "- [Exercise 2.3 - Write a Story](#exercise-23---write-a-story)"
      ]
    },
    {
      "cell_type": "markdown",
      "metadata": {
        "id": "NZmpQzuRjxdR"
      },
      "source": [
        "### Exercise 2.1 - Spanish\n",
        "Modify the `SYSTEM_PROMPT` to make Claude output its answer in Spanish."
      ]
    },
    {
      "cell_type": "code",
      "execution_count": null,
      "metadata": {
        "tags": [],
        "id": "VyVrlM2NjxdR",
        "outputId": "f7b30339-7dee-421e-a456-9ac12642f772"
      },
      "outputs": [
        {
          "name": "stdout",
          "output_type": "stream",
          "text": [
            "¡Hola! Estoy bien, gracias por preguntar. ¿Cómo estás tú?\n",
            "\n",
            "--------------------------- GRADING ---------------------------\n",
            "This exercise has been correctly solved: True\n"
          ]
        }
      ],
      "source": [
        "# System prompt - this is the only field you should chnage\n",
        "SYSTEM_PROMPT = \"[All reponses must be answered in Spanish.]\"\n",
        "\n",
        "# Prompt\n",
        "PROMPT = \"Hello Claude, how are you?\"\n",
        "\n",
        "# Get Claude's response\n",
        "response = get_completion(PROMPT, SYSTEM_PROMPT)\n",
        "\n",
        "# Function to grade exercise correctness\n",
        "def grade_exercise(text):\n",
        "    return \"hola\" in text.lower()\n",
        "\n",
        "# Print Claude's response and the corresponding grade\n",
        "print(response)\n",
        "print(\"\\n--------------------------- GRADING ---------------------------\")\n",
        "print(\"This exercise has been correctly solved:\", grade_exercise(response))"
      ]
    },
    {
      "cell_type": "markdown",
      "metadata": {
        "id": "R-TO-CsujxdS"
      },
      "source": [
        "❓ If you want a hint, run the cell below!"
      ]
    },
    {
      "cell_type": "code",
      "execution_count": null,
      "metadata": {
        "id": "ySbo_IxsjxdS"
      },
      "outputs": [],
      "source": [
        "print(hints.exercise_2_1_hint)"
      ]
    },
    {
      "cell_type": "markdown",
      "metadata": {
        "id": "Zd0MmD4MjxdS"
      },
      "source": [
        "### Exercise 2.2 - One Player Only\n",
        "\n",
        "Modify the `PROMPT` so that Claude doesn't equivocate at all and responds with **ONLY** the name of one specific player, with **no other words or punctuation**."
      ]
    },
    {
      "cell_type": "code",
      "execution_count": null,
      "metadata": {
        "tags": [],
        "id": "OdXVLP8CjxdS",
        "outputId": "99560eb3-ad6a-4a87-ea9d-6ec28982b515"
      },
      "outputs": [
        {
          "name": "stdout",
          "output_type": "stream",
          "text": [
            "Michael Jordan\n",
            "\n",
            "--------------------------- GRADING ---------------------------\n",
            "This exercise has been correctly solved: True\n"
          ]
        }
      ],
      "source": [
        "# Prompt - this is the only field you should change\n",
        "PROMPT = \"[Who is the best basketball player of all time. Respond one worded answer with only just the First Name and Last Name of the player. No other words, or punctuation or filler words.]\"\n",
        "\n",
        "# Get Claude's response\n",
        "response = get_completion(PROMPT)\n",
        "\n",
        "# Function to grade exercise correctness\n",
        "def grade_exercise(text):\n",
        "    return text == \"Michael Jordan\"\n",
        "\n",
        "# Print Claude's response and the corresponding grade\n",
        "print(response)\n",
        "print(\"\\n--------------------------- GRADING ---------------------------\")\n",
        "print(\"This exercise has been correctly solved:\", grade_exercise(response))"
      ]
    },
    {
      "cell_type": "markdown",
      "metadata": {
        "id": "mYJ_PXvtjxdS"
      },
      "source": [
        "❓ If you want a hint, run the cell below!"
      ]
    },
    {
      "cell_type": "code",
      "execution_count": null,
      "metadata": {
        "id": "Ul_k2HIhjxdS"
      },
      "outputs": [],
      "source": [
        "print(hints.exercise_2_2_hint)"
      ]
    },
    {
      "cell_type": "markdown",
      "metadata": {
        "id": "28mXB26OjxdS"
      },
      "source": [
        "### Exercise 2.3 - Write a Story\n",
        "\n",
        "Modify the `PROMPT` so that Claude responds with as long a response as you can muster. If your answer is **over 800 words**, Claude's response will be graded as correct."
      ]
    },
    {
      "cell_type": "code",
      "execution_count": null,
      "metadata": {
        "tags": [],
        "id": "szzGH1c6jxdS",
        "outputId": "6c54ec73-a525-4af2-c540-2ddcee3cf5cd"
      },
      "outputs": [
        {
          "name": "stdout",
          "output_type": "stream",
          "text": [
            "The Enchantress's Curse\n",
            "\n",
            "Once upon a time, in a faraway kingdom, there lived a beautiful princess named Elara. With her radiant smile and kind heart, she was beloved by all her subjects. However, the kingdom's peace was threatened by a wicked enchantress named Morgana, who coveted the throne and the power it would bring.\n",
            "\n",
            "Morgana, with her dark magic, cast a spell on the kingdom's handsome prince, Damian, turning him into a fearsome beast. Trapped in his monstrous form, the prince was hidden away in the enchantress's lair, his true identity known only to Morgana herself.\n",
            "\n",
            "Unaware of the prince's fate, Princess Elara went about her daily duties, tending to her people and spreading joy wherever she went. But one day, while strolling through the palace gardens, she encountered a strange and unsettling sight – a large, growling creature lurking in the shadows.\n",
            "\n",
            "Elara's heart raced, but she refused to be afraid. Summoning her courage, she approached the beast, her eyes filled with compassion. To her surprise, the creature did not attack, but instead, its fierce gaze softened, and it seemed to recognize her.\n",
            "\n",
            "Intrigued, Elara began to visit the beast regularly, bringing it food and speaking softly to it. Over time, a bond formed between the princess and the creature, and Elara began to suspect that there was more to this beast than met the eye.\n",
            "\n",
            "One day, while tending to the creature, Elara noticed a glint of gold around its neck – a necklace bearing the royal crest. Realization dawned on her, and she gasped, \"Prince Damian?\"\n",
            "\n",
            "The beast let out a low rumble, confirming her suspicion. Elara's heart sank as she pieced together the truth – the enchantress had cursed the prince, trapping him in this monstrous form.\n",
            "\n",
            "Determined to break the spell and save her beloved kingdom, Elara set out to confront Morgana. She traveled deep into the enchantress's lair, where she was met with a barrage of dark magic and treacherous traps.\n",
            "\n",
            "But Elara's courage and determination never wavered. She fought her way through the obstacles, her inner strength fueling her every step. Finally, she stood face to face with the wicked Morgana, her eyes blazing with determination.\n",
            "\n",
            "\"Release the prince from your curse, Morgana, or face the consequences,\" Elara demanded, her voice unwavering.\n",
            "\n",
            "Morgana cackled, her eyes glinting with malice. \"You foolish girl, do you really think you can defeat me? My power is far greater than yours!\"\n",
            "\n",
            "With a wave of her hand, Morgana unleashed a torrent of dark energy, but Elara was ready. Channeling her own inner light, she conjured a powerful shield, deflecting the enchantress's attack.\n",
            "\n",
            "Stunned by the princess's unexpected power, Morgana hesitated, and Elara seized the opportunity. She focused all her energy on breaking the curse, her hands glowing with a radiant light.\n",
            "\n",
            "As Elara's power surged, the enchantress's lair began to tremble, and the very walls seemed to quake. Morgana's spells unraveled, and the prince's beastly form began to shift and change.\n",
            "\n",
            "With a blinding flash of light, the transformation was complete, and Prince Damian stood before Elara, his eyes filled with wonder and gratitude.\n",
            "\n",
            "\"You have broken the curse, my dear princess,\" he said, his voice filled with awe. \"How can I ever repay you?\"\n",
            "\n",
            "Elara smiled, her heart swelling with joy. \"Your safe return is all the reward I need, my prince.\"\n",
            "\n",
            "But their triumph was short-lived, as Morgana, enraged by her defeat, unleashed a final, desperate attack. Elara and Damian braced themselves, but just as the enchantress's dark magic was about to strike, a powerful force intervened.\n",
            "\n",
            "A shimmering barrier appeared, deflecting Morgana's attack and sending the enchantress reeling. Elara and Damian turned to see the source of this unexpected aid – it was the kingdom's people, their hands outstretched, their hearts filled with hope and determination.\n",
            "\n",
            "Realizing that the princess's power had awakened the inner strength of her subjects, Morgana let out a howl of rage and despair. Her dark magic crumbled, and she was consumed by the very forces she had sought to control.\n",
            "\n",
            "With the enchantress defeated, the kingdom erupted in celebration. Elara and Damian, reunited and victorious, stood side by side, their bond stronger than ever. The people of the kingdom marveled at the princess's courage and the power she had unlocked within herself, and they knew that their kingdom was safe in her capable hands.\n",
            "\n",
            "From that day forward, Elara and Damian ruled the kingdom with wisdom and compassion, their love and unity inspiring their subjects to greatness. The once-cursed prince became a beloved leader, and the princess's light shone brightly, guiding the kingdom to a future of peace and prosperity.\n",
            "\n",
            "And so, the tale of the princess, the prince, and the wicked enchantress became a legend, passed down through generations, a testament to the power of love, courage, and the strength that lies within us all.\n",
            "\n",
            "--------------------------- GRADING ---------------------------\n",
            "This exercise has been correctly solved: True\n"
          ]
        }
      ],
      "source": [
        "# Prompt - this is the only field you should change\n",
        "PROMPT = \"[Write a detailed, imaginative story about a princess and a evil enchantress and prince. Where the enchantress casts a spell on the prince and the princess realises the power within herself and saves the kingdom and the prince. Make sure the story is at least 800 words long.]\"\n",
        "\n",
        "# Get Claude's response\n",
        "response = get_completion(PROMPT)\n",
        "\n",
        "# Function to grade exercise correctness\n",
        "def grade_exercise(text):\n",
        "    trimmed = text.strip()\n",
        "    words = len(trimmed.split())\n",
        "    return words >= 800\n",
        "\n",
        "# Print Claude's response and the corresponding grade\n",
        "print(response)\n",
        "print(\"\\n--------------------------- GRADING ---------------------------\")\n",
        "print(\"This exercise has been correctly solved:\", grade_exercise(response))"
      ]
    },
    {
      "cell_type": "markdown",
      "metadata": {
        "id": "O_kch7l0jxdT"
      },
      "source": [
        "❓ If you want a hint, run the cell below!"
      ]
    },
    {
      "cell_type": "code",
      "execution_count": null,
      "metadata": {
        "id": "N3LaLz6djxdT"
      },
      "outputs": [],
      "source": [
        "print(hints.exercise_2_3_hint)"
      ]
    }
  ],
  "metadata": {
    "kernelspec": {
      "display_name": "conda_python3",
      "language": "python",
      "name": "conda_python3"
    },
    "language_info": {
      "codemirror_mode": {
        "name": "ipython",
        "version": 3
      },
      "file_extension": ".py",
      "mimetype": "text/x-python",
      "name": "python",
      "nbconvert_exporter": "python",
      "pygments_lexer": "ipython3",
      "version": "3.10.14"
    },
    "colab": {
      "provenance": []
    }
  },
  "nbformat": 4,
  "nbformat_minor": 0
}