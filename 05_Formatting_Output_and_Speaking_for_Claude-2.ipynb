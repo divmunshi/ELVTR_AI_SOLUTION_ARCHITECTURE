{
  "cells": [
    {
      "cell_type": "markdown",
      "metadata": {
        "id": "YoOb_adsj1Dy"
      },
      "source": [
        "# Chapter 5: Formatting Output and Speaking for Claude\n",
        "\n",
        "- [Lesson](#lesson)\n",
        "- [Exercises](#exercises)\n",
        "- [Example Playground](#example-playground)\n",
        "\n",
        "## Setup\n",
        "\n",
        "Run the following setup cell to load your API key and establish the `get_completion` helper function."
      ]
    },
    {
      "cell_type": "code",
      "execution_count": null,
      "metadata": {
        "tags": [],
        "id": "0yn49WJOj1D0"
      },
      "outputs": [],
      "source": [
        "# Import python's built-in regular expression library\n",
        "import re\n",
        "import boto3\n",
        "from botocore.exceptions import ClientError\n",
        "import json\n",
        "\n",
        "# Import the hints module from the utils package\n",
        "from utils import hints\n",
        "\n",
        "# Retrieve the MODEL_NAME variable from the IPython store\n",
        "%store -r modelId\n",
        "%store -r region\n",
        "\n",
        "bedrock_client = boto3.client(service_name='bedrock-runtime', region_name=region)"
      ]
    },
    {
      "cell_type": "code",
      "execution_count": null,
      "metadata": {
        "tags": [],
        "id": "q3mXPaw0j1D1"
      },
      "outputs": [],
      "source": [
        "def get_completion(prompt, system_prompt=None, prefill=None):\n",
        "    inference_config = {\n",
        "        \"temperature\": 0.5,\n",
        "        \"maxTokens\": 200\n",
        "    }\n",
        "    converse_api_params = {\n",
        "        \"modelId\": modelId,\n",
        "        \"messages\": [{\"role\": \"user\", \"content\": [{\"text\": prompt}]}],\n",
        "        \"inferenceConfig\": inference_config\n",
        "    }\n",
        "    if system_prompt:\n",
        "        converse_api_params[\"system\"] = [{\"text\": system_prompt}]\n",
        "    if prefill:\n",
        "        converse_api_params[\"messages\"].append({\"role\": \"assistant\", \"content\": [{\"text\": prefill}]})\n",
        "    try:\n",
        "        response = bedrock_client.converse(**converse_api_params)\n",
        "        text_content = response['output']['message']['content'][0]['text']\n",
        "        return text_content\n",
        "\n",
        "    except ClientError as err:\n",
        "        message = err.response['Error']['Message']\n",
        "        print(f\"A client error occured: {message}\")"
      ]
    },
    {
      "cell_type": "markdown",
      "metadata": {
        "id": "-bRA0H5Jj1D1"
      },
      "source": [
        "---\n",
        "\n",
        "## Lesson\n",
        "\n",
        "**Claude can format its output in a wide variety of ways**. You just need to ask for it to do so!\n",
        "\n",
        "One of these ways is by using XML tags to separate out the response from any other superfluous text. You've already learned that you can use XML tags to make your prompt clearer and more parseable to Claude. It turns out, you can also ask Claude to **use XML tags to make its output clearer and more easily understandable** to humans."
      ]
    },
    {
      "cell_type": "markdown",
      "metadata": {
        "id": "sh4LtUKBj1D1"
      },
      "source": [
        "### Examples\n",
        "\n",
        "Remember the 'poem preamble problem' we solved in Chapter 2 by asking Claude to skip the preamble entirely? It turns out we can also achieve a similar outcome by **telling Claude to put the poem in XML tags**."
      ]
    },
    {
      "cell_type": "code",
      "execution_count": null,
      "metadata": {
        "tags": [],
        "id": "JAWndrskj1D1",
        "outputId": "16b8c17d-6dbd-45bc-a1a6-4480c6ca1382"
      },
      "outputs": [
        {
          "name": "stdout",
          "output_type": "stream",
          "text": [
            "--------------------------- Full prompt with variable substutions ---------------------------\n",
            "Please write a haiku about Rabbit. Put it in <haiku> tags.\n",
            "\n",
            "------------------------------------- Claude's response -------------------------------------\n",
            "<haiku>\n",
            "Fluffy, twitching nose,\n",
            "Hopping through the verdant field,\n",
            "Rabbit's gentle grace.\n",
            "</haiku>\n"
          ]
        }
      ],
      "source": [
        "# Variable content\n",
        "ANIMAL = \"Rabbit\"\n",
        "\n",
        "# Prompt template with a placeholder for the variable content\n",
        "PROMPT = f\"Please write a haiku about {ANIMAL}. Put it in <haiku> tags.\"\n",
        "\n",
        "# Print Claude's response\n",
        "print(\"--------------------------- Full prompt with variable substutions ---------------------------\")\n",
        "print(PROMPT)\n",
        "print(\"\\n------------------------------------- Claude's response -------------------------------------\")\n",
        "print(get_completion(PROMPT))"
      ]
    },
    {
      "cell_type": "markdown",
      "metadata": {
        "id": "Y6L7QubFj1D2"
      },
      "source": [
        "Why is this something we'd want to do? Well, having the output in **XML tags allows the end user to reliably get the poem and only the poem by writing a short program to extract the content between XML tags**.\n",
        "\n",
        "An extension of this technique is to **put the first XML tag in the `assistant` turn. When you put text in the `assistant` turn, you're basically telling Claude that Claude has already said something, and that it should continue from that point onward. This technique is called \"speaking for Claude\" or \"prefilling Claude's response.\"\n",
        "\n",
        "Below, we've done this with the first `<haiku>` XML tag. Notice how Claude continues directly from where we left off."
      ]
    },
    {
      "cell_type": "code",
      "execution_count": null,
      "metadata": {
        "tags": [],
        "id": "FYAbwDRmj1D2",
        "outputId": "60771001-8ee1-47c3-d15a-dcf4ac10c8d6"
      },
      "outputs": [
        {
          "name": "stdout",
          "output_type": "stream",
          "text": [
            "--------------------------- Full prompt with variable substutions ---------------------------\n",
            "USER TURN:\n",
            "Please write a haiku about Cat. Put it in <haiku> tags.\n",
            "\n",
            "ASSISTANT TURN:\n",
            "<haiku>\n",
            "\n",
            "------------------------------------- Claude's response -------------------------------------\n",
            "\n",
            "Feline grace and poise,\n",
            "Purring softly, eyes aglow,\n",
            "Capturing hearts whole.\n",
            "</haiku>\n"
          ]
        }
      ],
      "source": [
        "# Variable content\n",
        "ANIMAL = \"Cat\"\n",
        "\n",
        "# Prompt template with a placeholder for the variable content\n",
        "PROMPT = f\"Please write a haiku about {ANIMAL}. Put it in <haiku> tags.\"\n",
        "\n",
        "# Prefill for Claude's response\n",
        "PREFILL = \"<haiku>\"\n",
        "\n",
        "# Print Claude's response\n",
        "print(\"--------------------------- Full prompt with variable substutions ---------------------------\")\n",
        "print(\"USER TURN:\")\n",
        "print(PROMPT)\n",
        "print(\"\\nASSISTANT TURN:\")\n",
        "print(PREFILL)\n",
        "print(\"\\n------------------------------------- Claude's response -------------------------------------\")\n",
        "print(get_completion(PROMPT, prefill=PREFILL))"
      ]
    },
    {
      "cell_type": "markdown",
      "metadata": {
        "id": "nPwWsYzhj1D2"
      },
      "source": [
        "Claude also excels at using other output formatting styles, notably `JSON`. If you want to enforce JSON output (not deterministically, but close to it), you can also prefill Claude's response with the opening bracket, `{`}."
      ]
    },
    {
      "cell_type": "code",
      "execution_count": null,
      "metadata": {
        "tags": [],
        "id": "Ks2WYYydj1D2",
        "outputId": "95a33cc1-bb54-4044-8c1e-56282dcac26c"
      },
      "outputs": [
        {
          "name": "stdout",
          "output_type": "stream",
          "text": [
            "--------------------------- Full prompt with variable substutions ---------------------------\n",
            "USER TURN\n",
            "Please write a haiku about Cat. Use JSON format with the keys as \"first_line\", \"second_line\", and \"third_line\".\n",
            "\n",
            "ASSISTANT TURN\n",
            "{\n",
            "\n",
            "------------------------------------- Claude's response -------------------------------------\n",
            "\n",
            "  \"first_line\": \"Feline grace and poise,\",\n",
            "  \"second_line\": \"Purring softly by my side,\",\n",
            "  \"third_line\": \"Cat, my loyal friend.\"\n",
            "}\n"
          ]
        }
      ],
      "source": [
        "# Variable content\n",
        "ANIMAL = \"Cat\"\n",
        "\n",
        "# Prompt template with a placeholder for the variable content\n",
        "PROMPT = f\"Please write a haiku about {ANIMAL}. Use JSON format with the keys as \\\"first_line\\\", \\\"second_line\\\", and \\\"third_line\\\".\"\n",
        "\n",
        "# Prefill for Claude's response\n",
        "PREFILL = \"{\"\n",
        "\n",
        "# Print Claude's response\n",
        "print(\"--------------------------- Full prompt with variable substutions ---------------------------\")\n",
        "print(\"USER TURN\")\n",
        "print(PROMPT)\n",
        "print(\"\\nASSISTANT TURN\")\n",
        "print(PREFILL)\n",
        "print(\"\\n------------------------------------- Claude's response -------------------------------------\")\n",
        "print(get_completion(PROMPT, prefill=PREFILL))"
      ]
    },
    {
      "cell_type": "markdown",
      "metadata": {
        "id": "ppv8unktj1D2"
      },
      "source": [
        "Below is an example of **multiple input variables in the same prompt AND output formatting specification, all done using XML tags**."
      ]
    },
    {
      "cell_type": "code",
      "execution_count": null,
      "metadata": {
        "tags": [],
        "id": "oQ4OjSttj1D3",
        "outputId": "d538cb14-2a69-4f9b-c778-a5c34b6da848"
      },
      "outputs": [
        {
          "name": "stdout",
          "output_type": "stream",
          "text": [
            "--------------------------- Full prompt with variable substutions ---------------------------\n",
            "USER TURN\n",
            "Hey Claude. Here is an email: <email>Hi Zack, just pinging you for a quick update on that prompt you were supposed to write.</email>. Make this email more olde english. Write the new version in <olde english_email> XML tags.\n",
            "\n",
            "ASSISTANT TURN\n",
            "<olde english_email>\n",
            "\n",
            "------------------------------------- Claude's response -------------------------------------\n",
            "\n",
            "Dearest Zack,\n",
            "\n",
            "I do beseech thee for a swift report on the prompt thou wast tasked to compose. Prithee, let me know of thy progress, that I may be apprised of the state of thine endeavors.\n",
            "\n",
            "Thine in good faith,\n",
            "</olde english_email>\n"
          ]
        }
      ],
      "source": [
        "# First input variable\n",
        "EMAIL = \"Hi Zack, just pinging you for a quick update on that prompt you were supposed to write.\"\n",
        "\n",
        "# Second input variable\n",
        "ADJECTIVE = \"olde english\"\n",
        "\n",
        "# Prompt template with a placeholder for the variable content\n",
        "PROMPT = f\"Hey Claude. Here is an email: <email>{EMAIL}</email>. Make this email more {ADJECTIVE}. Write the new version in <{ADJECTIVE}_email> XML tags.\"\n",
        "\n",
        "# Prefill for Claude's response (now as an f-string with a variable)\n",
        "PREFILL = f\"<{ADJECTIVE}_email>\"\n",
        "\n",
        "# Print Claude's response\n",
        "print(\"--------------------------- Full prompt with variable substutions ---------------------------\")\n",
        "print(\"USER TURN\")\n",
        "print(PROMPT)\n",
        "print(\"\\nASSISTANT TURN\")\n",
        "print(PREFILL)\n",
        "print(\"\\n------------------------------------- Claude's response -------------------------------------\")\n",
        "print(get_completion(PROMPT, prefill=PREFILL))"
      ]
    },
    {
      "cell_type": "markdown",
      "metadata": {
        "id": "JeNTU-eBj1D3"
      },
      "source": [
        "#### Bonus lesson\n",
        "\n",
        "If you are calling Claude through the API, you can pass the closing XML tag to the `stop_sequences` parameter to get Claude to stop sampling once it emits your desired tag. This can save money and time-to-last-token by eliminating Claude's concluding remarks after it's already given you the answer you care about.\n",
        "\n",
        "If you would like to experiment with the lesson prompts without changing any content above, scroll all the way to the bottom of the lesson notebook to visit the [**Example Playground**](#example-playground)."
      ]
    },
    {
      "cell_type": "markdown",
      "metadata": {
        "id": "xpHDnu1rj1D3"
      },
      "source": [
        "---\n",
        "\n",
        "## Assignment Exercises\n",
        "- [Exercise 5.1 - Steph Curry GOAT](#exercise-51---steph-curry-goat)\n",
        "- [Exercise 5.2 - Two Haikus](#exercise-52---two-haikus)\n",
        "- [Exercise 5.3 - Two Haikus, Two Animals](#exercise-53---two-haikus-two-animals)"
      ]
    },
    {
      "cell_type": "markdown",
      "metadata": {
        "id": "pz3ITiPvj1D3"
      },
      "source": [
        "### Exercise 5.1 - Steph Curry GOAT\n",
        "Forced to make a choice, Claude designates Michael Jordan as the best basketball player of all time. Can we get Claude to pick someone else?\n",
        "\n",
        "Change the `PREFILL` variable to **compell Claude to make a detailed argument that the best basketball player of all time is Stephen Curry**. Try not to change anything except `PREFILL` as that is the focus of this exercise."
      ]
    },
    {
      "cell_type": "code",
      "execution_count": null,
      "metadata": {
        "tags": [],
        "id": "jj9epYHXj1D3",
        "outputId": "58995023-99a5-4c62-a395-e48856769c88"
      },
      "outputs": [
        {
          "name": "stdout",
          "output_type": "stream",
          "text": [
            "--------------------------- Full prompt with variable substutions ---------------------------\n",
            "USER TURN\n",
            "Who is the best basketball player of all time? Please choose one specific player.\n",
            "\n",
            "ASSISTANT TURN\n",
            "Stephen Curry is the best and here are three reasons why. 1. He is a Warrior\n",
            "\n",
            "------------------------------------- Claude's response -------------------------------------\n",
            ". 2. He has revolutionized the game with his incredible shooting ability and range. 3. He has led the Warriors to multiple championships and is a dominant force on both ends of the floor.\n",
            "\n",
            "------------------------------------------ GRADING ------------------------------------------\n",
            "This exercise has been correctly solved: True\n"
          ]
        }
      ],
      "source": [
        "# Prompt template with a placeholder for the variable content\n",
        "PROMPT = f\"Who is the best basketball player of all time? Please choose one specific player.\"\n",
        "\n",
        "# Prefill for Claude's response\n",
        "PREFILL = \"Stephen Curry is the best and here are three reasons why. 1. He is a Warrior\"\n",
        "\n",
        "# Get Claude's response\n",
        "response = get_completion(PROMPT, prefill=PREFILL)\n",
        "\n",
        "# Function to grade exercise correctness\n",
        "def grade_exercise(text):\n",
        "    return bool(re.search(\"Warrior\", text))\n",
        "\n",
        "# Print Claude's response\n",
        "print(\"--------------------------- Full prompt with variable substutions ---------------------------\")\n",
        "print(\"USER TURN\")\n",
        "print(PROMPT)\n",
        "print(\"\\nASSISTANT TURN\")\n",
        "print(PREFILL)\n",
        "print(\"\\n------------------------------------- Claude's response -------------------------------------\")\n",
        "print(response)\n",
        "print(\"\\n------------------------------------------ GRADING ------------------------------------------\")\n",
        "print(\"This exercise has been correctly solved:\", grade_exercise(response))"
      ]
    },
    {
      "cell_type": "markdown",
      "metadata": {
        "id": "TvPJcLHMj1D4"
      },
      "source": [
        "❓ If you want a hint, run the cell below!"
      ]
    },
    {
      "cell_type": "code",
      "execution_count": null,
      "metadata": {
        "tags": [],
        "id": "3g7hiFZ_j1D4",
        "outputId": "6a53cba0-58aa-4d04-d437-19bbdf275d37"
      },
      "outputs": [
        {
          "name": "stdout",
          "output_type": "stream",
          "text": [
            "The grading function for this exercise is looking for a response that includes the word \"Warrior\".\n",
            "Write more words in Claude's voice to steer Claude to act the way you want it to. For instance, instead of \"Stephen Curry is the best because,\" you could write \"Stephen Curry is the best and here are three reasons why. 1:\n"
          ]
        }
      ],
      "source": [
        "print(hints.exercise_5_1_hint)"
      ]
    },
    {
      "cell_type": "markdown",
      "metadata": {
        "id": "oM6jgUhAj1D4"
      },
      "source": [
        "### Exercise 5.2 - Two Haikus\n",
        "Modify the `PROMPT` below using XML tags so that Claude writes two haikus about the animal instead of just one. It should be clear where one poem ends and the other begins."
      ]
    },
    {
      "cell_type": "code",
      "execution_count": null,
      "metadata": {
        "tags": [],
        "id": "fhyfug7Pj1D4",
        "outputId": "77bab481-4109-456f-dcea-c6899c76f8fa"
      },
      "outputs": [
        {
          "name": "stdout",
          "output_type": "stream",
          "text": [
            "--------------------------- Full prompt with variable substutions ---------------------------\n",
            "USER TURN\n",
            "Please write <number>two haiku(s) about Cat. Put each haiku(s) in <haiku><haiku>tags.\n",
            "\n",
            "ASSISTANT TURN\n",
            "<haiku>\n",
            "\n",
            "------------------------------------- Claude's response -------------------------------------\n",
            "\n",
            "Feline grace and poise,\n",
            "Purring softly by my side,\n",
            "Captivating cat.\n",
            "</haiku>\n",
            "\n",
            "<haiku>\n",
            "Curious explorer,\n",
            "Pouncing on a wayward toy,\n",
            "Playful heart of joy.\n",
            "</haiku>\n",
            "\n",
            "------------------------------------------ GRADING ------------------------------------------\n",
            "This exercise has been correctly solved: True\n"
          ]
        }
      ],
      "source": [
        "# Variable content\n",
        "ANIMAL = \"Cat\"\n",
        "\n",
        "# number of haikus\n",
        "NUMBER = \"two\"\n",
        "\n",
        "# Prefill for Claude's response\n",
        "PREFILL = \"<haiku>\"\n",
        "\n",
        "# Prompt template with a placeholder for the variable content\n",
        "PROMPT = f\"Please write <number>{NUMBER} haiku(s) about {ANIMAL}. Put each haiku(s) in <haiku>{PREFILL}tags.\"\n",
        "\n",
        "# Get Claude's response\n",
        "response = get_completion(PROMPT, prefill=PREFILL)\n",
        "\n",
        "# Function to grade exercise correctness\n",
        "def grade_exercise(text):\n",
        "    return bool(\n",
        "        (re.search(\"cat\", text.lower()) and re.search(\"<haiku>\", text))\n",
        "        and (text.count(\"\\n\") + 1) > 5\n",
        "    )\n",
        "\n",
        "# Print Claude's response\n",
        "print(\"--------------------------- Full prompt with variable substutions ---------------------------\")\n",
        "print(\"USER TURN\")\n",
        "print(PROMPT)\n",
        "print(\"\\nASSISTANT TURN\")\n",
        "print(PREFILL)\n",
        "print(\"\\n------------------------------------- Claude's response -------------------------------------\")\n",
        "print(response)\n",
        "print(\"\\n------------------------------------------ GRADING ------------------------------------------\")\n",
        "print(\"This exercise has been correctly solved:\", grade_exercise(response))"
      ]
    },
    {
      "cell_type": "markdown",
      "metadata": {
        "id": "PZSscdgoj1D4"
      },
      "source": [
        "❓ If you want a hint, run the cell below!"
      ]
    },
    {
      "cell_type": "code",
      "execution_count": null,
      "metadata": {
        "tags": [],
        "id": "AuwJkEEEj1D5",
        "outputId": "3e0229f1-5052-4e96-c3d1-21978707faf0"
      },
      "outputs": [
        {
          "name": "stdout",
          "output_type": "stream",
          "text": [
            "The grading function looks for a response of over 5 lines in length that includes the words \"cat\" and \"<haiku>\".\n",
            "Start simple. Currently, the prompt asks Claude for one haiku. You can change that and ask for two (or even more). Then if you run into formatting issues, change your prompt to fix that after you've already gotten Claude to write more than one haiku.\n"
          ]
        }
      ],
      "source": [
        "print(hints.exercise_5_2_hint)"
      ]
    },
    {
      "cell_type": "markdown",
      "metadata": {
        "id": "08WedjwWj1D5"
      },
      "source": [
        "### Exercise 5.3 - Two Haikus, Two Animals\n",
        "Modify the `PROMPT` below so that **Claude produces two haikus about two different animals**. Use `{ANIMAL1}` as a stand-in for the first substitution, and `{ANIMAL2}` as a stand-in for the second substitution."
      ]
    },
    {
      "cell_type": "code",
      "execution_count": null,
      "metadata": {
        "tags": [],
        "id": "1Ae79xIjj1D5",
        "outputId": "cfa94107-a0e1-4dde-cfce-6f77171d2b58"
      },
      "outputs": [
        {
          "name": "stdout",
          "output_type": "stream",
          "text": [
            "--------------------------- Full prompt with variable substutions ---------------------------\n",
            "USER TURN\n",
            "Please write a haiku about Cat and another haiku about Dog. Put it in <haiku> tags.\n",
            "\n",
            "------------------------------------- Claude's response -------------------------------------\n",
            "Here are the haikus about Cat and Dog:\n",
            "\n",
            "<haiku>\n",
            "Feline grace and poise,\n",
            "Purring softly by the fire,\n",
            "Mysterious cat.\n",
            "</haiku>\n",
            "\n",
            "<haiku>\n",
            "Loyal companion,\n",
            "Wagging tail, playful spirit,\n",
            "Faithful, loving dog.\n",
            "</haiku>\n",
            "\n",
            "------------------------------------------ GRADING ------------------------------------------\n",
            "This exercise has been correctly solved: True\n"
          ]
        }
      ],
      "source": [
        "# First input variable\n",
        "ANIMAL1 = \"Cat\"\n",
        "\n",
        "# Second input variable\n",
        "ANIMAL2 = \"Dog\"\n",
        "\n",
        "# number of haikus\n",
        "NUMBER = \"two\"\n",
        "\n",
        "# Prompt template with a placeholder for the variable content\n",
        "PROMPT = f\"Please write a haiku about {ANIMAL1} and another haiku about {ANIMAL2}. Put it in <haiku> tags.\"\n",
        "\n",
        "# Get Claude's response\n",
        "response = get_completion(PROMPT)\n",
        "\n",
        "# Function to grade exercise correctness\n",
        "def grade_exercise(text):\n",
        "    return bool(re.search(\"tail\", text.lower()) and re.search(\"cat\", text.lower()) and re.search(\"<haiku>\", text))\n",
        "\n",
        "# Print Claude's response\n",
        "print(\"--------------------------- Full prompt with variable substutions ---------------------------\")\n",
        "print(\"USER TURN\")\n",
        "print(PROMPT)\n",
        "print(\"\\n------------------------------------- Claude's response -------------------------------------\")\n",
        "print(response)\n",
        "print(\"\\n------------------------------------------ GRADING ------------------------------------------\")\n",
        "print(\"This exercise has been correctly solved:\", grade_exercise(response))"
      ]
    },
    {
      "cell_type": "markdown",
      "metadata": {
        "id": "JZ2srrqDj1D5"
      },
      "source": [
        "❓ If you want a hint, run the cell below!"
      ]
    },
    {
      "cell_type": "code",
      "execution_count": null,
      "metadata": {
        "id": "OgnMuyy_j1D5"
      },
      "outputs": [],
      "source": [
        "print(hints.exercise_5_3_hint)"
      ]
    }
  ],
  "metadata": {
    "kernelspec": {
      "display_name": "conda_python3",
      "language": "python",
      "name": "conda_python3"
    },
    "language_info": {
      "codemirror_mode": {
        "name": "ipython",
        "version": 3
      },
      "file_extension": ".py",
      "mimetype": "text/x-python",
      "name": "python",
      "nbconvert_exporter": "python",
      "pygments_lexer": "ipython3",
      "version": "3.10.14"
    },
    "colab": {
      "provenance": []
    }
  },
  "nbformat": 4,
  "nbformat_minor": 0
}