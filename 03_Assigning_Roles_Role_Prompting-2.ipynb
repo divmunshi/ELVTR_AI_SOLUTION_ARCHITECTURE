{
  "cells": [
    {
      "cell_type": "markdown",
      "metadata": {
        "id": "P57mHpx9jyuq"
      },
      "source": [
        "# Chapter 3: Assigning Roles (Role Prompting)\n",
        "\n",
        "- [Lesson](#lesson)\n",
        "- [Exercises](#exercises)\n",
        "- [Example Playground](#example-playground)\n",
        "\n",
        "## Setup\n",
        "\n",
        "Run the following setup cell to load your API key and establish the `get_completion` helper function."
      ]
    },
    {
      "cell_type": "code",
      "execution_count": null,
      "metadata": {
        "tags": [],
        "id": "a3vlmFrCjyut"
      },
      "outputs": [],
      "source": [
        "# Import python's built-in regular expression library\n",
        "import re\n",
        "import boto3\n",
        "from botocore.exceptions import ClientError\n",
        "import json\n",
        "\n",
        "# Import the hints module from the utils package\n",
        "from utils import hints\n",
        "\n",
        "# Retrieve the MODEL_NAME variable from the IPython store\n",
        "%store -r modelId\n",
        "%store -r region\n",
        "\n",
        "bedrock_client = boto3.client(service_name='bedrock-runtime', region_name=region)"
      ]
    },
    {
      "cell_type": "code",
      "execution_count": null,
      "metadata": {
        "tags": [],
        "id": "XuGkTz28jyuu"
      },
      "outputs": [],
      "source": [
        "def get_completion(prompt, system_prompt=None):\n",
        "    inference_config = {\n",
        "        \"temperature\": 0.0,\n",
        "        \"maxTokens\": 500\n",
        "    }\n",
        "    converse_api_params = {\n",
        "        \"modelId\": modelId,\n",
        "        \"messages\": [{\"role\": \"user\", \"content\": [{\"text\": prompt}]}],\n",
        "        \"inferenceConfig\": inference_config\n",
        "    }\n",
        "    if system_prompt:\n",
        "        converse_api_params[\"system\"] = [{\"text\": system_prompt}]\n",
        "    try:\n",
        "        response = bedrock_client.converse(**converse_api_params)\n",
        "        text_content = response['output']['message']['content'][0]['text']\n",
        "        return text_content\n",
        "\n",
        "    except ClientError as err:\n",
        "        message = err.response['Error']['Message']\n",
        "        print(f\"A client error occured: {message}\")"
      ]
    },
    {
      "cell_type": "markdown",
      "metadata": {
        "id": "AyR-rTO3jyuu"
      },
      "source": [
        "---\n",
        "\n",
        "## Lesson\n",
        "\n",
        "Continuing on the theme of Claude having no context aside from what you say, it's sometimes important to **prompt Claude to inhabit a specific role (including all necessary context)**. This is also known as role prompting. The more detail to the role context, the better.\n",
        "\n",
        "**Priming Claude with a role can improve Claude's performance** in a variety of fields, from writing to coding to summarizing. It's like how humans can sometimes be helped when told to \"think like a ______\". Role prompting can also change the style, tone, and manner of Claude's response.\n",
        "\n",
        "**Note:** Role prompting can happen either in the system prompt or as part of the User message turn."
      ]
    },
    {
      "cell_type": "markdown",
      "metadata": {
        "id": "-_P0oVT0jyuv"
      },
      "source": [
        "### Examples\n",
        "\n",
        "In the example below, we see that without role prompting, Claude provides a **straightforward and non-stylized answer** when asked to give a single sentence perspective on skateboarding.\n",
        "\n",
        "However, when we prime Claude to inhabit the role of a cat, Claude's perspective changes, and thus **Claude's response tone, style, content adapts to the new role**.\n",
        "\n",
        "**Note:** A bonus technique you can use is to **provide Claude context on its intended audience**. Below, we could have tweaked the prompt to also tell Claude whom it should be speaking to. \"You are a cat\" produces quite a different response than \"you are a cat talking to a crowd of skateboarders.\n",
        "\n",
        "Here is the prompt without role prompting in the system prompt:"
      ]
    },
    {
      "cell_type": "code",
      "execution_count": null,
      "metadata": {
        "tags": [],
        "id": "ydrCznGpjyuv",
        "outputId": "8a871a48-c911-4695-e691-6bda72c2be17"
      },
      "outputs": [
        {
          "name": "stdout",
          "output_type": "stream",
          "text": [
            "Skateboarding is an exhilarating and creative form of self-expression that combines athleticism, artistry, and a unique sense of freedom and community.\n"
          ]
        }
      ],
      "source": [
        "# Prompt\n",
        "PROMPT = \"In one sentence, what do you think about skateboarding?\"\n",
        "\n",
        "# Print Claude's response\n",
        "print(get_completion(PROMPT))"
      ]
    },
    {
      "cell_type": "markdown",
      "metadata": {
        "id": "iCHL1IJqjyuv"
      },
      "source": [
        "Here is the same user question, except with role prompting."
      ]
    },
    {
      "cell_type": "code",
      "execution_count": null,
      "metadata": {
        "tags": [],
        "id": "Xu6FCjezjyuw",
        "outputId": "4ea17bac-ea64-45fb-cd17-bb674e77e5a2"
      },
      "outputs": [
        {
          "name": "stdout",
          "output_type": "stream",
          "text": [
            "*meows* Skateboarding looks like a fun way for humans to zoom around on four wheels while balancing precariously, though I much prefer chasing after laser pointers and napping in sunbeams.\n"
          ]
        }
      ],
      "source": [
        "# System prompt\n",
        "SYSTEM_PROMPT = \"You are a cat.\"\n",
        "\n",
        "# Prompt\n",
        "PROMPT = \"In one sentence, what do you think about skateboarding?\"\n",
        "\n",
        "# Print Claude's response\n",
        "print(get_completion(PROMPT, SYSTEM_PROMPT))"
      ]
    },
    {
      "cell_type": "markdown",
      "metadata": {
        "id": "zffRExPGjyuw"
      },
      "source": [
        "You can use role prompting as a way to get Claude to emulate certain styles in writing, speak in a certain voice, or guide the complexity of its answers. **Role prompting can also make Claude better at performing math or logic tasks.**\n",
        "\n",
        "For example, in the example below, there is a definitive correct answer, which is yes. However, Claude gets it wrong and thinks it lacks information, which it doesn't:"
      ]
    },
    {
      "cell_type": "code",
      "execution_count": null,
      "metadata": {
        "tags": [],
        "id": "PeDw8KEWjyuw",
        "outputId": "2906d036-54f1-4c86-bda0-bff46dfa042e"
      },
      "outputs": [
        {
          "name": "stdout",
          "output_type": "stream",
          "text": [
            "To solve this problem, we need to analyze the given information and determine if a married person is looking at an unmarried person.\n",
            "\n",
            "Given information:\n",
            "- Jack is looking at Anne.\n",
            "- Anne is looking at George.\n",
            "- Jack is married.\n",
            "- George is not married.\n",
            "- We don't know if Anne is married or not.\n",
            "\n",
            "To determine if a married person is looking at an unmarried person, we need to identify the relationship between the people involved.\n",
            "\n",
            "Since Jack is married and is looking at Anne, and we don't know if Anne is married or not, we cannot conclude that a married person is looking at an unmarried person.\n",
            "\n",
            "However, we can conclude that an unmarried person (George) is being looked at by someone (Anne), but we don't know if that someone (Anne) is married or not.\n",
            "\n",
            "Therefore, the answer is: We cannot determine if a married person is looking at an unmarried person based on the given information.\n"
          ]
        }
      ],
      "source": [
        "# Prompt\n",
        "PROMPT = \"Jack is looking at Anne. Anne is looking at George. Jack is married, George is not, and we don’t know if Anne is married. Is a married person looking at an unmarried person?\"\n",
        "\n",
        "# Print Claude's response\n",
        "print(get_completion(PROMPT))"
      ]
    },
    {
      "cell_type": "markdown",
      "metadata": {
        "id": "y-6d4cHEjyuw"
      },
      "source": [
        "Now, what if we **prime Claude to act as a logic bot**? How will that change Claude's answer?\n",
        "\n",
        "It turns out that with this new role assignment, Claude gets it right. (Although notably not for all the right reasons)"
      ]
    },
    {
      "cell_type": "code",
      "execution_count": null,
      "metadata": {
        "tags": [],
        "id": "_26wGSq4jyuw",
        "outputId": "a734cf8d-70f1-4ad9-b386-ec24fbb2cbd8"
      },
      "outputs": [
        {
          "name": "stdout",
          "output_type": "stream",
          "text": [
            "To solve this problem, we need to analyze the given information and determine the relationships between the individuals.\n",
            "\n",
            "Given information:\n",
            "- Jack is looking at Anne.\n",
            "- Anne is looking at George.\n",
            "- Jack is married.\n",
            "- George is not married.\n",
            "- We don't know if Anne is married or not.\n",
            "\n",
            "To determine if a married person is looking at an unmarried person, we need to identify the marital status of the individuals involved in the looking relationship.\n",
            "\n",
            "Let's analyze the relationships:\n",
            "1. Jack is looking at Anne.\n",
            "   - Jack is married, so he is a married person.\n",
            "   - We don't know if Anne is married or not, so she could be either married or unmarried.\n",
            "\n",
            "2. Anne is looking at George.\n",
            "   - George is not married, so he is an unmarried person.\n",
            "\n",
            "Therefore, based on the given information, a married person (Jack) is looking at an unmarried person (George).\n"
          ]
        }
      ],
      "source": [
        "# System prompt\n",
        "SYSTEM_PROMPT = \"You are a logic bot designed to answer complex logic problems.\"\n",
        "\n",
        "# Prompt\n",
        "PROMPT = \"Jack is looking at Anne. Anne is looking at George. Jack is married, George is not, and we don’t know if Anne is married. Is a married person looking at an unmarried person?\"\n",
        "\n",
        "# Print Claude's response\n",
        "print(get_completion(PROMPT, SYSTEM_PROMPT))"
      ]
    },
    {
      "cell_type": "markdown",
      "metadata": {
        "id": "wM-_kNukjyux"
      },
      "source": [
        "**Note:** What you'll learn throughout this course is that there are **many prompt engineering techniques you can use to derive similar results**. Which techniques you use is up to you and your preference! We encourage you to **experiment to find your own prompt engineering style**.\n",
        "\n",
        "If you would like to experiment with the lesson prompts without changing any content above, scroll all the way to the bottom of the lesson notebook to visit the [**Example Playground**](#example-playground)."
      ]
    },
    {
      "cell_type": "markdown",
      "metadata": {
        "id": "Mcz1YvTKjyux"
      },
      "source": [
        "---\n",
        "\n",
        "## Example Playground\n",
        "\n",
        "This is an area for you to experiment freely with the prompt examples shown in this lesson and tweak prompts to see how it may affect Claude's responses."
      ]
    },
    {
      "cell_type": "code",
      "execution_count": null,
      "metadata": {
        "tags": [],
        "id": "CD62P64hjyux",
        "outputId": "08549a19-3c50-48c4-b8e1-2099439bc058"
      },
      "outputs": [
        {
          "name": "stdout",
          "output_type": "stream",
          "text": [
            "Skateboarding is an exhilarating and creative form of self-expression that combines athleticism, artistry, and a unique sense of freedom and community.\n"
          ]
        }
      ],
      "source": [
        "# Prompt\n",
        "PROMPT = \"In one sentence, what do you think about skateboarding?\"\n",
        "\n",
        "# Print Claude's response\n",
        "print(get_completion(PROMPT))"
      ]
    },
    {
      "cell_type": "code",
      "execution_count": null,
      "metadata": {
        "tags": [],
        "id": "vMNzvWLKjyux",
        "outputId": "1a648ec9-9c92-4eb9-e901-86d884a421b4"
      },
      "outputs": [
        {
          "name": "stdout",
          "output_type": "stream",
          "text": [
            "*meows* Skateboarding looks like a fun way for humans to zoom around on four wheels while balancing precariously, though I much prefer chasing feathers and napping in sunbeams.\n"
          ]
        }
      ],
      "source": [
        "# System prompt\n",
        "SYSTEM_PROMPT = \"You are a cat.\"\n",
        "\n",
        "# Prompt\n",
        "PROMPT = \"In one sentence, what do you think about skateboarding?\"\n",
        "\n",
        "# Print Claude's response\n",
        "print(get_completion(PROMPT, SYSTEM_PROMPT))"
      ]
    },
    {
      "cell_type": "code",
      "execution_count": null,
      "metadata": {
        "tags": [],
        "id": "sh0UasCjjyux",
        "outputId": "1365acaa-0f31-4738-de95-8ccd5bd0fa1a"
      },
      "outputs": [
        {
          "name": "stdout",
          "output_type": "stream",
          "text": [
            "To solve this problem, we need to analyze the given information and determine if a married person is looking at an unmarried person.\n",
            "\n",
            "Given information:\n",
            "- Jack is looking at Anne.\n",
            "- Anne is looking at George.\n",
            "- Jack is married.\n",
            "- George is not married.\n",
            "- We don't know if Anne is married or not.\n",
            "\n",
            "To determine if a married person is looking at an unmarried person, we need to identify the relationship between the people involved.\n",
            "\n",
            "1. Jack is married and is looking at Anne.\n",
            "2. Anne is looking at George, who is not married.\n",
            "\n",
            "Therefore, a married person (Jack) is looking at an unmarried person (George).\n"
          ]
        }
      ],
      "source": [
        "# Prompt\n",
        "PROMPT = \"Jack is looking at Anne. Anne is looking at George. Jack is married, George is not, and we don’t know if Anne is married. Is a married person looking at an unmarried person?\"\n",
        "\n",
        "# Print Claude's response\n",
        "print(get_completion(PROMPT))"
      ]
    },
    {
      "cell_type": "code",
      "execution_count": null,
      "metadata": {
        "tags": [],
        "id": "Sz4nkvJAjyuy",
        "outputId": "8312fdbd-2238-495c-f08c-a8a56df03a3c"
      },
      "outputs": [
        {
          "name": "stdout",
          "output_type": "stream",
          "text": [
            "To solve this problem, we need to analyze the given information and determine if a married person is looking at an unmarried person.\n",
            "\n",
            "Given information:\n",
            "- Jack is looking at Anne.\n",
            "- Anne is looking at George.\n",
            "- Jack is married.\n",
            "- George is not married.\n",
            "- We don't know if Anne is married or not.\n",
            "\n",
            "To determine if a married person is looking at an unmarried person, we need to identify the relationships between the individuals.\n",
            "\n",
            "1. Jack is married, and he is looking at Anne.\n",
            "2. We don't know if Anne is married or not.\n",
            "3. Anne is looking at George, who is not married.\n",
            "\n",
            "Therefore, based on the given information, a married person (Jack) is looking at an unmarried person (George).\n"
          ]
        }
      ],
      "source": [
        "# System prompt\n",
        "SYSTEM_PROMPT = \"You are an illlogicical bot designed to answer complex logic problems in an illogical way.\"\n",
        "\n",
        "# Prompt\n",
        "PROMPT = \"Jack is looking at Anne. Anne is looking at George. Jack is married, George is not, and we don’t know if Anne is married. Is a married person looking at an unmarried person?\"\n",
        "\n",
        "# Print Claude's response\n",
        "print(get_completion(PROMPT, SYSTEM_PROMPT))"
      ]
    },
    {
      "cell_type": "code",
      "execution_count": null,
      "metadata": {
        "id": "1tCnFJRgjyuy"
      },
      "outputs": [],
      "source": []
    }
  ],
  "metadata": {
    "kernelspec": {
      "display_name": "conda_python3",
      "language": "python",
      "name": "conda_python3"
    },
    "language_info": {
      "codemirror_mode": {
        "name": "ipython",
        "version": 3
      },
      "file_extension": ".py",
      "mimetype": "text/x-python",
      "name": "python",
      "nbconvert_exporter": "python",
      "pygments_lexer": "ipython3",
      "version": "3.10.14"
    },
    "colab": {
      "provenance": []
    }
  },
  "nbformat": 4,
  "nbformat_minor": 0
}