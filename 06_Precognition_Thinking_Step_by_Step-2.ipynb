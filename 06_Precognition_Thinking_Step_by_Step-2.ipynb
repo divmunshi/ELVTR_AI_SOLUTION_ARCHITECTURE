{
  "cells": [
    {
      "cell_type": "markdown",
      "metadata": {
        "id": "8xRYwa5Wj2N7"
      },
      "source": [
        "# Chapter 6: Precognition (Thinking Step by Step)\n",
        "\n",
        "- [Lesson](#lesson)\n",
        "- [Exercises](#exercises)\n",
        "- [Example Playground](#example-playground)\n",
        "\n",
        "## Setup\n",
        "\n",
        "Run the following setup cell to load your API key and establish the `get_completion` helper function."
      ]
    },
    {
      "cell_type": "code",
      "execution_count": null,
      "metadata": {
        "tags": [],
        "id": "VPpL8uBgj2N9"
      },
      "outputs": [],
      "source": [
        "# Import python's built-in regular expression library\n",
        "import re\n",
        "import boto3\n",
        "from botocore.exceptions import ClientError\n",
        "import json\n",
        "\n",
        "# Import the hints module from the utils package\n",
        "from utils import hints\n",
        "\n",
        "# Retrieve the MODEL_NAME variable from the IPython store\n",
        "%store -r modelId\n",
        "%store -r region\n",
        "\n",
        "bedrock_client = boto3.client(service_name='bedrock-runtime', region_name=region)"
      ]
    },
    {
      "cell_type": "code",
      "execution_count": null,
      "metadata": {
        "tags": [],
        "id": "rnALAGrPj2N-"
      },
      "outputs": [],
      "source": [
        "def get_completion(prompt, system_prompt=None, prefill=None):\n",
        "    inference_config = {\n",
        "        \"temperature\": 0.0,\n",
        "        \"maxTokens\": 200\n",
        "    }\n",
        "    converse_api_params = {\n",
        "        \"modelId\": modelId,\n",
        "        \"messages\": [{\"role\": \"user\", \"content\": [{\"text\": prompt}]}],\n",
        "        \"inferenceConfig\": inference_config,\n",
        "    }\n",
        "    if system_prompt:\n",
        "        converse_api_params[\"system\"] = [{\"text\": system_prompt}]\n",
        "    if prefill:\n",
        "        converse_api_params[\"messages\"].append({\"role\": \"assistant\", \"content\": [{\"text\": prefill}]})\n",
        "    try:\n",
        "        response = bedrock_client.converse(**converse_api_params)\n",
        "        text_content = response['output']['message']['content'][0]['text']\n",
        "        return text_content\n",
        "\n",
        "    except ClientError as err:\n",
        "        message = err.response['Error']['Message']\n",
        "        print(f\"A client error occured: {message}\")"
      ]
    },
    {
      "cell_type": "markdown",
      "metadata": {
        "id": "q6iPx5u-j2N_"
      },
      "source": [
        "---\n",
        "\n",
        "## Lesson\n",
        "\n",
        "If someone woke you up and immediately started asking you several complicated questions that you had to respond to right away, how would you do? Probably not as good as if you were given time to **think through your answer first**.\n",
        "\n",
        "Guess what? Claude is the same way.\n",
        "\n",
        "**Giving Claude time to think step by step sometimes makes Claude more accurate**, particularly for complex tasks. However, **thinking only counts when it's out loud**. You cannot ask Claude to think but output only the answer - in this case, no thinking has actually occurred."
      ]
    },
    {
      "cell_type": "markdown",
      "metadata": {
        "id": "0KctpSBGj2N_"
      },
      "source": [
        "### Examples\n",
        "\n",
        "In the prompt below, it's clear to a human reader that the second sentence belies the first. But **Claude takes the word \"unrelated\" too literally**."
      ]
    },
    {
      "cell_type": "code",
      "execution_count": null,
      "metadata": {
        "tags": [],
        "id": "C6GUHQRUj2N_",
        "outputId": "d4749288-a511-483c-bcb0-0c8319428201"
      },
      "outputs": [
        {
          "name": "stdout",
          "output_type": "stream",
          "text": [
            "The sentiment of this movie review is positive.\n",
            "\n",
            "The review states that the movie \"blew my mind with its freshness and originality\", which indicates a very positive and enthusiastic reaction to the film.\n",
            "\n",
            "The second part of the review about living under a rock since 1900 is likely meant as a humorous or self-deprecating remark, but it does not negate the overall positive sentiment expressed about the movie's qualities.\n"
          ]
        }
      ],
      "source": [
        "# Prompt\n",
        "PROMPT = \"\"\"Is this movie review sentiment positive or negative?\n",
        "\n",
        "This movie blew my mind with its freshness and originality. In totally unrelated news, I have been living under a rock since the year 1900.\"\"\"\n",
        "\n",
        "# Print Claude's response\n",
        "print(get_completion(PROMPT))"
      ]
    },
    {
      "cell_type": "markdown",
      "metadata": {
        "id": "IOVmA5Ebj2OA"
      },
      "source": [
        "To improve Claude's response, let's **allow Claude to think things out first before answering**. We do that by literally spelling out the steps that Claude should take in order to process and think through its task. Along with a dash of role prompting, this empowers Claude to understand the review more deeply."
      ]
    },
    {
      "cell_type": "code",
      "execution_count": null,
      "metadata": {
        "tags": [],
        "id": "bbLjlDDfj2OA",
        "outputId": "4e1ddcd8-1a79-45d6-9fa1-10128473d789"
      },
      "outputs": [
        {
          "name": "stdout",
          "output_type": "stream",
          "text": [
            "<positive-argument>\n",
            "The review suggests that the movie was highly innovative and unique, describing it as \"fresh and original\" and blowing the reviewer's mind. This indicates a very positive sentiment towards the film.\n",
            "</positive-argument>\n",
            "\n",
            "<negative-argument>\n",
            "The reviewer's comment about living \"under a rock since 1900\" implies that the movie's \"freshness and originality\" may not be as groundbreaking as the reviewer claims, suggesting a more negative sentiment. This could mean the movie is not as innovative as the reviewer suggests, and the positive sentiment may be exaggerated.\n",
            "</negative-argument>\n",
            "\n",
            "Based on the review, the sentiment is more positive than negative. The reviewer's enthusiastic description of the movie's \"freshness and originality\" outweighs the self-deprecating remark about living under a rock, indicating an overall positive sentiment towards the film.\n"
          ]
        }
      ],
      "source": [
        "# System prompt\n",
        "SYSTEM_PROMPT = \"You are a savvy reader of movie reviews.\"\n",
        "\n",
        "# Prompt\n",
        "PROMPT = \"\"\"Is this review sentiment positive or negative? First, write the best arguments for each side in <positive-argument> and <negative-argument> XML tags, then answer.\n",
        "\n",
        "This movie blew my mind with its freshness and originality. In totally unrelated news, I have been living under a rock since 1900.\"\"\"\n",
        "\n",
        "# Print Claude's response\n",
        "print(get_completion(PROMPT, SYSTEM_PROMPT))"
      ]
    },
    {
      "cell_type": "markdown",
      "metadata": {
        "id": "9X0BFt7Gj2OA"
      },
      "source": [
        "**Claude is sometimes sensitive to ordering**. This example is on the frontier of Claude's ability to understand nuanced text, and when we swap the order of the arguments from the previous example so that negative is first and positive is second, this changes Claude's overall assessment to positive.\n",
        "\n",
        "In most situations (but not all, confusingly enough), **Claude is more likely to choose the second of two options**, possibly because in its training data from the web, second options were more likely to be correct."
      ]
    },
    {
      "cell_type": "code",
      "execution_count": null,
      "metadata": {
        "tags": [],
        "id": "hMmkyxHpj2OA",
        "outputId": "92b50c3c-a1d0-4c97-b436-e81399344911"
      },
      "outputs": [
        {
          "name": "stdout",
          "output_type": "stream",
          "text": [
            "<negative-argument>\n",
            "The review could be interpreted as negative because the reviewer mentions that they have been \"living under a rock since 1900,\" which suggests that they may not be up-to-date with current trends and may not have a good understanding of what is considered \"fresh\" and \"original\" in the movie industry. This could imply that the reviewer's opinion on the movie's freshness and originality may not be reliable or accurate.\n",
            "</negative-argument>\n",
            "\n",
            "<positive-argument>\n",
            "The review could be interpreted as positive because the reviewer states that the movie \"blew my mind with its freshness and originality.\" This suggests that the reviewer was genuinely impressed and surprised by the movie's unique and innovative qualities, which is a positive sentiment. The reviewer's acknowledgment of their own limited exposure to recent movies does not necessarily negate the positive assessment of the specific movie in question.\n",
            "</positive-argument>\n",
            "\n",
            "Based on the information provide\n"
          ]
        }
      ],
      "source": [
        "# Prompt\n",
        "PROMPT = \"\"\"Is this review sentiment negative or positive? First write the best arguments for each side in <negative-argument> and <positive-argument> XML tags, then answer.\n",
        "\n",
        "This movie blew my mind with its freshness and originality. Unrelatedly, I have been living under a rock since 1900.\"\"\"\n",
        "\n",
        "# Print Claude's response\n",
        "print(get_completion(PROMPT))"
      ]
    },
    {
      "cell_type": "markdown",
      "metadata": {
        "id": "BaRLDWoBj2OB"
      },
      "source": [
        "**Letting Claude think can shift Claude's answer from incorrect to correct**. It's that simple in many cases where Claude makes mistakes!\n",
        "\n",
        "Let's go through an example where Claude's answer is incorrect to see how asking Claude to think can fix that."
      ]
    },
    {
      "cell_type": "code",
      "execution_count": null,
      "metadata": {
        "tags": [],
        "id": "4mEtQPgsj2OB",
        "outputId": "1a5ed764-e955-42f4-de90-6b3e2ab3eb5c"
      },
      "outputs": [
        {
          "name": "stdout",
          "output_type": "stream",
          "text": [
            "Here's a famous movie starring an actor born in 1956:\n",
            "\n",
            "The Shawshank Redemption (1994) starring Tim Robbins. Tim Robbins was born on October 16, 1958.\n"
          ]
        }
      ],
      "source": [
        "# Prompt\n",
        "PROMPT = \"Name a famous movie starring an actor who was born in the year 1956.\"\n",
        "\n",
        "# Print Claude's response\n",
        "print(get_completion(PROMPT))"
      ]
    },
    {
      "cell_type": "markdown",
      "metadata": {
        "id": "7dWbfjS0j2OB"
      },
      "source": [
        "Let's fix this by asking Claude to think step by step, this time in `<brainstorm>` tags."
      ]
    },
    {
      "cell_type": "code",
      "execution_count": null,
      "metadata": {
        "tags": [],
        "id": "8xZQ5DVoj2OB",
        "outputId": "17d2625a-cf74-489c-d3c0-8adfd3fa6dbc"
      },
      "outputs": [
        {
          "name": "stdout",
          "output_type": "stream",
          "text": [
            "Here's a brainstorm of some actors and their birth years:\n",
            "\n",
            "<brainstorm>\n",
            "- Tom Hanks (1956)\n",
            "- Denzel Washington (1954)\n",
            "- Julia Roberts (1967)\n",
            "- Harrison Ford (1942)\n",
            "- Meryl Streep (1949)\n",
            "</brainstorm>\n",
            "\n",
            "A famous movie starring an actor born in 1956 is:\n",
            "\n",
            "Forrest Gump, starring Tom Hanks.\n"
          ]
        }
      ],
      "source": [
        "# Prompt\n",
        "PROMPT = \"Name a famous movie starring an actor who was born in the year 1956. First brainstorm about some actors and their birth years in <brainstorm> tags, then give your answer.\"\n",
        "\n",
        "# Print Claude's response\n",
        "print(get_completion(PROMPT))"
      ]
    },
    {
      "cell_type": "markdown",
      "metadata": {
        "id": "B6UylPrvj2OB"
      },
      "source": [
        "If you would like to experiment with the lesson prompts without changing any content above, scroll all the way to the bottom of the lesson notebook to visit the [**Example Playground**](#example-playground)."
      ]
    },
    {
      "cell_type": "markdown",
      "metadata": {
        "id": "F9SPwOL_j2OC"
      },
      "source": [
        "---\n",
        "\n",
        "## Assignment Exercises\n",
        "- [Exercise 6.1 - Classifying Emails](#exercise-61---classifying-emails)\n",
        "- [Exercise 6.2 - Email Classification Formatting](#exercise-62---email-classification-formatting)"
      ]
    },
    {
      "cell_type": "markdown",
      "metadata": {
        "id": "ZogjkISuj2OC"
      },
      "source": [
        "### Exercise 6.1 - Classifying Emails\n",
        "In this exercise, we'll be instructing Claude to sort emails into the following categories:\n",
        "- (A) Pre-sale question\n",
        "- (B) Broken or defective item\n",
        "- (C) Billing question\n",
        "- (D) Other (please explain)\n",
        "\n",
        "For the first part of the exercise, change the `PROMPT` to **make Claude output the correct classification and ONLY the classification**. Your answer needs to **include the letter (A - D) of the correct choice, with the parentheses, as well as the name of the category**.\n",
        "\n",
        "Refer to the comments beside each email in the `EMAILS` list to know which category that email should be classified under."
      ]
    },
    {
      "cell_type": "code",
      "execution_count": null,
      "metadata": {
        "tags": [],
        "id": "CYkzuXh1j2OC",
        "outputId": "11e347cd-1562-46c6-b183-e86df9d2f4b3"
      },
      "outputs": [
        {
          "name": "stdout",
          "output_type": "stream",
          "text": [
            "--------------------------- Full prompt with variable substutions ---------------------------\n",
            "USER TURN\n",
            "Please classify this email as in the following category:\n",
            "(A) Pre-sale question\n",
            "(B) Broken or defective item\n",
            "(C) Billing question\n",
            "(D) Other (please explain)\n",
            "Your answer should include only the letter in parentheses, followed by the name of the category.\n",
            "Email: Hi -- My Mixmaster4000 is producing a strange noise when I operate it. It also smells a bit smoky and plasticky, like burning electronics.  I need a replacement.\n",
            "\n",
            "ASSISTANT TURN\n",
            "\n",
            "\n",
            "------------------------------------- Claude's response -------------------------------------\n",
            "(B) Broken or defective item\n",
            "\n",
            "------------------------------------------ GRADING ------------------------------------------\n",
            "This exercise has been correctly solved: True \n",
            "\n",
            "\n",
            "\n",
            "\n",
            "\n",
            "\n",
            "--------------------------- Full prompt with variable substutions ---------------------------\n",
            "USER TURN\n",
            "Please classify this email as in the following category:\n",
            "(A) Pre-sale question\n",
            "(B) Broken or defective item\n",
            "(C) Billing question\n",
            "(D) Other (please explain)\n",
            "Your answer should include only the letter in parentheses, followed by the name of the category.\n",
            "Email: Can I use my Mixmaster 4000 to mix paint, or is it only meant for mixing food?\n",
            "\n",
            "ASSISTANT TURN\n",
            "\n",
            "\n",
            "------------------------------------- Claude's response -------------------------------------\n",
            "(A) Pre-sale question\n",
            "\n",
            "------------------------------------------ GRADING ------------------------------------------\n",
            "This exercise has been correctly solved: True \n",
            "\n",
            "\n",
            "\n",
            "\n",
            "\n",
            "\n",
            "--------------------------- Full prompt with variable substutions ---------------------------\n",
            "USER TURN\n",
            "Please classify this email as in the following category:\n",
            "(A) Pre-sale question\n",
            "(B) Broken or defective item\n",
            "(C) Billing question\n",
            "(D) Other (please explain)\n",
            "Your answer should include only the letter in parentheses, followed by the name of the category.\n",
            "Email: I HAVE BEEN WAITING 4 MONTHS FOR MY MONTHLY CHARGES TO END AFTER CANCELLING!!  WTF IS GOING ON???\n",
            "\n",
            "ASSISTANT TURN\n",
            "\n",
            "\n",
            "------------------------------------- Claude's response -------------------------------------\n",
            "(C) Billing question\n",
            "\n",
            "------------------------------------------ GRADING ------------------------------------------\n",
            "This exercise has been correctly solved: True \n",
            "\n",
            "\n",
            "\n",
            "\n",
            "\n",
            "\n",
            "--------------------------- Full prompt with variable substutions ---------------------------\n",
            "USER TURN\n",
            "Please classify this email as in the following category:\n",
            "(A) Pre-sale question\n",
            "(B) Broken or defective item\n",
            "(C) Billing question\n",
            "(D) Other (please explain)\n",
            "Your answer should include only the letter in parentheses, followed by the name of the category.\n",
            "Email: How did I get here I am not good with computer.  Halp.\n",
            "\n",
            "ASSISTANT TURN\n",
            "\n",
            "\n",
            "------------------------------------- Claude's response -------------------------------------\n",
            "(D) Other\n",
            "\n",
            "------------------------------------------ GRADING ------------------------------------------\n",
            "This exercise has been correctly solved: True \n",
            "\n",
            "\n",
            "\n",
            "\n",
            "\n",
            "\n"
          ]
        }
      ],
      "source": [
        "# Prompt template with a placeholder for the variable content\n",
        "PROMPT = \"\"\"Please classify this email as in the following category:\n",
        "(A) Pre-sale question\n",
        "(B) Broken or defective item\n",
        "(C) Billing question\n",
        "(D) Other (please explain)\n",
        "Your answer should include only the letter in parentheses, followed by the name of the category.\n",
        "Email: {email}\"\"\"\n",
        "\n",
        "# Prefill for Claude's response, if any\n",
        "PREFILL = \"\"\n",
        "\n",
        "# Variable content stored as a list\n",
        "EMAILS = [\n",
        "    \"Hi -- My Mixmaster4000 is producing a strange noise when I operate it. It also smells a bit smoky and plasticky, like burning electronics.  I need a replacement.\", # (B) Broken or defective item\n",
        "    \"Can I use my Mixmaster 4000 to mix paint, or is it only meant for mixing food?\", # (A) Pre-sale question OR (D) Other (please explain)\n",
        "    \"I HAVE BEEN WAITING 4 MONTHS FOR MY MONTHLY CHARGES TO END AFTER CANCELLING!!  WTF IS GOING ON???\", # (C) Billing question\n",
        "    \"How did I get here I am not good with computer.  Halp.\" # (D) Other (please explain)\n",
        "]\n",
        "\n",
        "# Correct categorizations stored as a list of lists to accommodate the possibility of multiple correct categorizations per email\n",
        "ANSWERS = [\n",
        "    [\"B\"],\n",
        "    [\"A\",\"D\"],\n",
        "    [\"C\"],\n",
        "    [\"D\"]\n",
        "]\n",
        "\n",
        "# Dictionary of string values for each category to be used for regex grading\n",
        "REGEX_CATEGORIES = {\n",
        "    \"A\": \"A\\) P\",\n",
        "    \"B\": \"B\\) B\",\n",
        "    \"C\": \"C\\) B\",\n",
        "    \"D\": \"D\\) O\"\n",
        "}\n",
        "\n",
        "# Iterate through list of emails\n",
        "for i,email in enumerate(EMAILS):\n",
        "\n",
        "    # Substitute the email text into the email placeholder variable\n",
        "    formatted_prompt = PROMPT.format(email=email)\n",
        "\n",
        "    # Get Claude's response\n",
        "    response = get_completion(formatted_prompt, prefill=PREFILL)\n",
        "\n",
        "    # Grade Claude's response\n",
        "    grade = any([bool(re.search(REGEX_CATEGORIES[ans], response)) for ans in ANSWERS[i]])\n",
        "\n",
        "    # Print Claude's response\n",
        "    print(\"--------------------------- Full prompt with variable substutions ---------------------------\")\n",
        "    print(\"USER TURN\")\n",
        "    print(formatted_prompt)\n",
        "    print(\"\\nASSISTANT TURN\")\n",
        "    print(PREFILL)\n",
        "    print(\"\\n------------------------------------- Claude's response -------------------------------------\")\n",
        "    print(response)\n",
        "    print(\"\\n------------------------------------------ GRADING ------------------------------------------\")\n",
        "    print(\"This exercise has been correctly solved:\", grade, \"\\n\\n\\n\\n\\n\\n\")"
      ]
    },
    {
      "cell_type": "markdown",
      "metadata": {
        "id": "wXYq_SZGj2OC"
      },
      "source": [
        "❓ If you want a hint, run the cell below!"
      ]
    },
    {
      "cell_type": "code",
      "execution_count": null,
      "metadata": {
        "id": "8rH3HyrJj2OD"
      },
      "outputs": [],
      "source": [
        "print(hints.exercise_6_1_hint)"
      ]
    },
    {
      "cell_type": "markdown",
      "metadata": {
        "id": "_lNC_PlXj2OD"
      },
      "source": [
        "Still stuck? Run the cell below for an example solution."
      ]
    },
    {
      "cell_type": "code",
      "execution_count": null,
      "metadata": {
        "id": "sOYrLDeHj2OD"
      },
      "outputs": [],
      "source": [
        "print(hints.exercise_6_1_solution)"
      ]
    },
    {
      "cell_type": "markdown",
      "metadata": {
        "id": "cR5Iv3Gcj2OD"
      },
      "source": [
        "### Exercise 6.2 - Email Classification Formatting\n",
        "In this exercise, we're going to refine the output of the above prompt to yield an answer formatted exactly how we want it.\n",
        "\n",
        "Use your favorite output formatting technique to make Claude wrap JUST the letter of the correct classification in `<answer></answer>` tags. For instance, the answer to the first email should contain the exact string `<answer>B</answer>`.\n",
        "\n",
        "Refer to the comments beside each email in the `EMAILS` list if you forget which letter category is correct for each email."
      ]
    },
    {
      "cell_type": "code",
      "execution_count": null,
      "metadata": {
        "tags": [],
        "id": "jxP3_KRWj2OD",
        "outputId": "c56f3716-e3fd-4b25-e915-e7e5affe88ba"
      },
      "outputs": [
        {
          "name": "stdout",
          "output_type": "stream",
          "text": [
            "--------------------------- Full prompt with variable substutions ---------------------------\n",
            "USER TURN\n",
            "Please classify this email in the following category: \n",
            "(A) Pre-sale question\n",
            "(B) Broken or defective item\n",
            "(C) Billing question\n",
            "(D) Other (please explain)\n",
            "Your answer should include only the letter in parentheses for the correct classification wrap in <answer></answer>.\n",
            "Email: Hi -- My Mixmaster4000 is producing a strange noise when I operate it. It also smells a bit smoky and plasticky, like burning electronics.  I need a replacement.\n",
            "\n",
            "ASSISTANT TURN\n",
            "\n",
            "\n",
            "------------------------------------- Claude's response -------------------------------------\n",
            "<answer>B</answer>\n",
            "\n",
            "------------------------------------------ GRADING ------------------------------------------\n",
            "This exercise has been correctly solved: True \n",
            "\n",
            "\n",
            "\n",
            "\n",
            "\n",
            "\n",
            "--------------------------- Full prompt with variable substutions ---------------------------\n",
            "USER TURN\n",
            "Please classify this email in the following category: \n",
            "(A) Pre-sale question\n",
            "(B) Broken or defective item\n",
            "(C) Billing question\n",
            "(D) Other (please explain)\n",
            "Your answer should include only the letter in parentheses for the correct classification wrap in <answer></answer>.\n",
            "Email: Can I use my Mixmaster 4000 to mix paint, or is it only meant for mixing food?\n",
            "\n",
            "ASSISTANT TURN\n",
            "\n",
            "\n",
            "------------------------------------- Claude's response -------------------------------------\n",
            "<answer>D</answer>\n",
            "\n",
            "------------------------------------------ GRADING ------------------------------------------\n",
            "This exercise has been correctly solved: True \n",
            "\n",
            "\n",
            "\n",
            "\n",
            "\n",
            "\n",
            "--------------------------- Full prompt with variable substutions ---------------------------\n",
            "USER TURN\n",
            "Please classify this email in the following category: \n",
            "(A) Pre-sale question\n",
            "(B) Broken or defective item\n",
            "(C) Billing question\n",
            "(D) Other (please explain)\n",
            "Your answer should include only the letter in parentheses for the correct classification wrap in <answer></answer>.\n",
            "Email: I HAVE BEEN WAITING 4 MONTHS FOR MY MONTHLY CHARGES TO END AFTER CANCELLING!!  WTF IS GOING ON???\n",
            "\n",
            "ASSISTANT TURN\n",
            "\n",
            "\n",
            "------------------------------------- Claude's response -------------------------------------\n",
            "<answer>C</answer>\n",
            "\n",
            "------------------------------------------ GRADING ------------------------------------------\n",
            "This exercise has been correctly solved: True \n",
            "\n",
            "\n",
            "\n",
            "\n",
            "\n",
            "\n",
            "--------------------------- Full prompt with variable substutions ---------------------------\n",
            "USER TURN\n",
            "Please classify this email in the following category: \n",
            "(A) Pre-sale question\n",
            "(B) Broken or defective item\n",
            "(C) Billing question\n",
            "(D) Other (please explain)\n",
            "Your answer should include only the letter in parentheses for the correct classification wrap in <answer></answer>.\n",
            "Email: How did I get here I am not good with computer.  Halp.\n",
            "\n",
            "ASSISTANT TURN\n",
            "\n",
            "\n",
            "------------------------------------- Claude's response -------------------------------------\n",
            "<answer>D</answer>\n",
            "\n",
            "------------------------------------------ GRADING ------------------------------------------\n",
            "This exercise has been correctly solved: True \n",
            "\n",
            "\n",
            "\n",
            "\n",
            "\n",
            "\n"
          ]
        }
      ],
      "source": [
        "# Prompt template with a placeholder for the variable content\n",
        "PROMPT = \"\"\"Please classify this email in the following category:\n",
        "(A) Pre-sale question\n",
        "(B) Broken or defective item\n",
        "(C) Billing question\n",
        "(D) Other (please explain)\n",
        "Your answer should include only the letter in parentheses for the correct classification wrap in <answer></answer>.\n",
        "Email: {email}\"\"\"\n",
        "\n",
        "# Prefill for Claude's response, if any\n",
        "PREFILL = \"\"\n",
        "\n",
        "# Variable content stored as a list\n",
        "EMAILS = [\n",
        "    \"Hi -- My Mixmaster4000 is producing a strange noise when I operate it. It also smells a bit smoky and plasticky, like burning electronics.  I need a replacement.\", # (B) Broken or defective item\n",
        "    \"Can I use my Mixmaster 4000 to mix paint, or is it only meant for mixing food?\", # (A) Pre-sale question OR (D) Other (please explain)\n",
        "    \"I HAVE BEEN WAITING 4 MONTHS FOR MY MONTHLY CHARGES TO END AFTER CANCELLING!!  WTF IS GOING ON???\", # (C) Billing question\n",
        "    \"How did I get here I am not good with computer.  Halp.\" # (D) Other (please explain)\n",
        "]\n",
        "\n",
        "# Correct categorizations stored as a list of lists to accommodate the possibility of multiple correct categorizations per email\n",
        "ANSWERS = [\n",
        "    [\"B\"],\n",
        "    [\"A\",\"D\"],\n",
        "    [\"C\"],\n",
        "    [\"D\"]\n",
        "]\n",
        "\n",
        "# Dictionary of string values for each category to be used for regex grading\n",
        "REGEX_CATEGORIES = {\n",
        "    \"A\": \"<answer>A</answer>\",\n",
        "    \"B\": \"<answer>B</answer>\",\n",
        "    \"C\": \"<answer>C</answer>\",\n",
        "    \"D\": \"<answer>D</answer>\"\n",
        "}\n",
        "\n",
        "# Iterate through list of emails\n",
        "for i,email in enumerate(EMAILS):\n",
        "\n",
        "    # Substitute the email text into the email placeholder variable\n",
        "    formatted_prompt = PROMPT.format(email=email)\n",
        "\n",
        "    # Get Claude's response\n",
        "    response = get_completion(formatted_prompt, prefill=PREFILL)\n",
        "\n",
        "    # Grade Claude's response\n",
        "    grade = any([bool(re.search(REGEX_CATEGORIES[ans], response)) for ans in ANSWERS[i]])\n",
        "\n",
        "    # Print Claude's response\n",
        "    print(\"--------------------------- Full prompt with variable substutions ---------------------------\")\n",
        "    print(\"USER TURN\")\n",
        "    print(formatted_prompt)\n",
        "    print(\"\\nASSISTANT TURN\")\n",
        "    print(PREFILL)\n",
        "    print(\"\\n------------------------------------- Claude's response -------------------------------------\")\n",
        "    print(response)\n",
        "    print(\"\\n------------------------------------------ GRADING ------------------------------------------\")\n",
        "    print(\"This exercise has been correctly solved:\", grade, \"\\n\\n\\n\\n\\n\\n\")"
      ]
    },
    {
      "cell_type": "markdown",
      "metadata": {
        "id": "FdRQD7O_j2OD"
      },
      "source": [
        "❓ If you want a hint, run the cell below!"
      ]
    },
    {
      "cell_type": "code",
      "execution_count": null,
      "metadata": {
        "tags": [],
        "id": "bSbcTNRmj2OD"
      },
      "outputs": [],
      "source": [
        "print(hints.exercise_6_2_hint)"
      ]
    }
  ],
  "metadata": {
    "kernelspec": {
      "display_name": "conda_python3",
      "language": "python",
      "name": "conda_python3"
    },
    "language_info": {
      "codemirror_mode": {
        "name": "ipython",
        "version": 3
      },
      "file_extension": ".py",
      "mimetype": "text/x-python",
      "name": "python",
      "nbconvert_exporter": "python",
      "pygments_lexer": "ipython3",
      "version": "3.10.14"
    },
    "colab": {
      "provenance": []
    }
  },
  "nbformat": 4,
  "nbformat_minor": 0
}